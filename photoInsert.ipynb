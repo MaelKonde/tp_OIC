{
 "cells": [
  {
   "cell_type": "markdown",
   "metadata": {},
   "source": [
    "# Éditeur EXIF avec Streamlit\n",
    "\n",
    "Ce notebook permet de visualiser et de modifier les métadonnées EXIF d’une image à l’aide de Streamlit."
   ]
  },
  {
   "cell_type": "code",
   "execution_count": null,
   "metadata": {},
   "outputs": [],
   "source": [
    "import streamlit as st\n",
    "from PIL import Image\n",
    "from PIL.ExifTags import TAGS\n",
    "import piexif"
   ]
  },
  {
   "cell_type": "code",
   "execution_count": null,
   "metadata": {},
   "outputs": [],
   "source": [
    "# Widget Streamlit pour charger une image (jpg, jpeg, png)\n",
    "uploaded_file = st.file_uploader(\"Chargez une photo\", type=[\"jpg\", \"jpeg\", \"png\"])\n",
    "\n",
    "if uploaded_file:\n",
    "    # Ouvre l'image avec Pillow\n",
    "    image = Image.open(uploaded_file)\n",
    "    # Affiche l'image dans l'application Streamlit avec une légende\n",
    "    st.image(image, caption=\"Votre photo\", use_column_width=True)"
   ]
  },
  {
   "cell_type": "code",
   "execution_count": null,
   "metadata": {},
   "outputs": [],
   "source": [
    "def get_exif_data(img):\n",
    "    \"\"\"\n",
    "    Extrait les métadonnées EXIF d'une image PIL et les retourne sous forme de dictionnaire lisible.\n",
    "    \"\"\"\n",
    "    exif_data = {}\n",
    "    info = img._getexif()\n",
    "    if info:\n",
    "        for tag, value in info.items():\n",
    "            decoded = TAGS.get(tag, tag)\n",
    "            exif_data[decoded] = value\n",
    "    return exif_data"
   ]
  },
  {
   "cell_type": "code",
   "execution_count": null,
   "metadata": {},
   "outputs": [],
   "source": [
    "if uploaded_file:\n",
    "    # Extraction et affichage des métadonnées EXIF existantes\n",
    "    exif_data = get_exif_data(image)\n",
    "    st.write(\"Métadonnées EXIF existantes :\", exif_data)"
   ]
  },
  {
   "cell_type": "code",
   "execution_count": null,
   "metadata": {},
   "outputs": [],
   "source": [
    "if uploaded_file:\n",
    "    # Champ de saisie pour modifier le champ 'Artist' (auteur) dans les EXIF\n",
    "    artist = st.text_input(\"Auteur/Artiste\", value=exif_data.get('Artist', ''))\n",
    "\n",
    "    if st.button(\"Mettre à jour les EXIF\"):\n",
    "        # Charge les EXIF existantes avec piexif (nécessite que l'image ait des EXIF)\n",
    "        exif_bytes = image.info.get(\"exif\", None)\n",
    "        if exif_bytes:\n",
    "            exif_dict = piexif.load(exif_bytes)\n",
    "            exif_dict['0th'][piexif.ImageIFD.Artist] = artist.encode('utf-8')\n",
    "            new_exif = piexif.dump(exif_dict)\n",
    "            image.save(\"output.jpg\", exif=new_exif)\n",
    "            st.success(\"EXIF mis à jour et image sauvegardée.\")\n",
    "        else:\n",
    "            st.error(\"Aucune donnée EXIF trouvée dans l'image.\")"
   ]
  }
 ],
 "metadata": {
  "kernelspec": {
   "display_name": "Python 3",
   "language": "python",
   "name": "python3"
  },
  "language_info": {
   "name": "python",
   "version": "3.x"
  }
 },
 "nbformat": 4,
 "nbformat_minor": 2
}
